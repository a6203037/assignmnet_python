{
  "nbformat": 4,
  "nbformat_minor": 0,
  "metadata": {
    "colab": {
      "private_outputs": true,
      "provenance": []
    },
    "kernelspec": {
      "name": "python3",
      "display_name": "Python 3"
    },
    "language_info": {
      "name": "python"
    }
  },
  "cells": [
    {
      "cell_type": "code",
      "source": [
        "リストの合計を計算する関数"
      ],
      "metadata": {
        "id": "Tw-13fW3P546"
      },
      "execution_count": null,
      "outputs": []
    },
    {
      "cell_type": "code",
      "execution_count": null,
      "metadata": {
        "id": "h4yWftBvNnoe"
      },
      "outputs": [],
      "source": [
        "def  sum_list (numbers):\n",
        "    sum=0\n",
        "    for i in numbers:\n",
        "        sum+=i\n",
        "    return sum\n",
        "num=([1, 2, 3, 4, 5])\n",
        "result=sum_list(num)\n",
        "print(result)\n",
        "\n"
      ]
    },
    {
      "cell_type": "markdown",
      "source": [
        "辞書の値をリストとして返す関数"
      ],
      "metadata": {
        "id": "aTJV-3PeP-ky"
      }
    },
    {
      "cell_type": "code",
      "source": [
        "def dict_values_to_list(data):\n",
        "  data_values=[]\n",
        "  for i in data.values():\n",
        "    data_values.append(i)\n",
        "  return data_values\n",
        "\n",
        "list=({\"a\": 1, \"b\": 2, \"c\": 3})\n",
        "analyse=dict_values_to_list(list)\n",
        "print(analyse)"
      ],
      "metadata": {
        "id": "rnVgvzlvP49P"
      },
      "execution_count": null,
      "outputs": []
    },
    {
      "cell_type": "markdown",
      "source": [
        "文字列リストから特定の文字で始まる単語を抽出する関数"
      ],
      "metadata": {
        "id": "xo2p_fzsRMEo"
      }
    },
    {
      "cell_type": "code",
      "source": [
        "def filter_by_initial(words, initial):\n",
        "  specific_word=[]\n",
        "  for i in words:\n",
        "    if i.startswith(initial):\n",
        "     specific_word.append(i)\n",
        "\n",
        "  return specific_word\n",
        "discover=filter_by_initial([\"apple\", \"banana\", \"cherry\"], \"b\")\n",
        "print(discover)"
      ],
      "metadata": {
        "id": "CciXYzq9RyzC"
      },
      "execution_count": null,
      "outputs": []
    },
    {
      "cell_type": "markdown",
      "source": [
        "リスト内の偶数をカウントする関数"
      ],
      "metadata": {
        "id": "ksEjBXQdTG3l"
      }
    },
    {
      "cell_type": "code",
      "source": [
        "def count_even_numbers(numbers):\n",
        "  count=0\n",
        "\n",
        "  for i in numbers:\n",
        "\n",
        "    if i%2==0:\n",
        "      count+=1\n",
        "\n",
        "  return count\n",
        "\n",
        "\n",
        "outcome=count_even_numbers([1, 2, 3, 4, 5, 6])\n",
        "print(outcome)"
      ],
      "metadata": {
        "id": "p8ZqQui5TKI2"
      },
      "execution_count": null,
      "outputs": []
    },
    {
      "cell_type": "markdown",
      "source": [
        "辞書のキーをリストとして返す関数"
      ],
      "metadata": {
        "id": "WcdnYFh_VEGU"
      }
    },
    {
      "cell_type": "code",
      "source": [
        "def dict_keys_to_list(data):\n",
        "  key_list=[]\n",
        "  for i in data.keys():\n",
        "    key_list.append(i)\n",
        "  return key_list\n",
        "\n",
        "list=dict_keys_to_list({\"name\": \"Alice\", \"age\": 25})\n",
        "print(list)"
      ],
      "metadata": {
        "id": "4luWx0HjVDqo"
      },
      "execution_count": null,
      "outputs": []
    },
    {
      "cell_type": "markdown",
      "source": [
        "リストの要素を逆順にする関数"
      ],
      "metadata": {
        "id": "0A-FJjKhWLwO"
      }
    },
    {
      "cell_type": "code",
      "source": [
        "def reverse_list(items):\n",
        "  items_reversed=[]\n",
        "  for i in reversed(items):\n",
        "    items_reversed.append(i)\n",
        "\n",
        "  return items_reversed\n",
        "\n",
        "list=reverse_list([1, 2, 3, 4])\n",
        "print(list)"
      ],
      "metadata": {
        "id": "zV9jjEc9WO8e"
      },
      "execution_count": null,
      "outputs": []
    },
    {
      "cell_type": "markdown",
      "source": [
        "辞書の値の合計を計算する関数"
      ],
      "metadata": {
        "id": "WcT7qJk-W2bo"
      }
    },
    {
      "cell_type": "code",
      "source": [
        "def  sum_dict_values(data):\n",
        "  sum=0\n",
        "  for i in data.values():\n",
        "    sum+=i\n",
        "\n",
        "  return sum\n",
        "list=sum_dict_values({\"a\": 10, \"b\": 20, \"c\": 30})\n",
        "print(list)"
      ],
      "metadata": {
        "id": "-ryN2pJUW6mY"
      },
      "execution_count": null,
      "outputs": []
    },
    {
      "cell_type": "markdown",
      "source": [
        "2つのリストを結合する関数"
      ],
      "metadata": {
        "id": "PTI4lR3iXb02"
      }
    },
    {
      "cell_type": "code",
      "source": [
        "def concat_lists(list1 , list2):\n",
        "   return list1+list2\n",
        "list=concat_lists([1, 2, 3], [4, 5, 6])\n",
        "print(list)"
      ],
      "metadata": {
        "id": "MrNo82oXXgmK"
      },
      "execution_count": null,
      "outputs": []
    },
    {
      "cell_type": "markdown",
      "source": [
        "文字列リストの各要素を大文字に変換する関数\n",
        "\n"
      ],
      "metadata": {
        "id": "3B-KwZsXYFRb"
      }
    },
    {
      "cell_type": "code",
      "source": [
        "def uppercase_strings(words):\n",
        "  upper_words=[]\n",
        "  for i in words:\n",
        "    upper_words.append(i.upper())\n",
        "\n",
        "  return upper_words\n",
        "list=uppercase_strings([\"hello\", \"world\"])\n",
        "print(list)"
      ],
      "metadata": {
        "id": "TwJnPJmlYJL7"
      },
      "execution_count": null,
      "outputs": []
    },
    {
      "cell_type": "markdown",
      "source": [
        "リストから重複する要素を削除する関数\n",
        "\n"
      ],
      "metadata": {
        "id": "HoW1tlfAZDS2"
      }
    },
    {
      "cell_type": "code",
      "source": [
        "def remove_duplicates(items):\n",
        "   return list(set(items))\n",
        "\n",
        "result=remove_duplicates([1, 2, 2, 3, 4, 4, 5])\n",
        "\n",
        "print(result)"
      ],
      "metadata": {
        "id": "1Kg_Sew4ZKIm"
      },
      "execution_count": null,
      "outputs": []
    },
    {
      "cell_type": "markdown",
      "source": [
        "辞書のキーを小文字に変換する関数"
      ],
      "metadata": {
        "id": "I6TMyIf-Zu1g"
      }
    },
    {
      "cell_type": "code",
      "source": [
        "def  lowercase_keys(data):\n",
        "  return {k.lower():v for k,v in data.items()}\n",
        "result=lowercase_keys({\"Name\": \"Alice\", \"Age\": 25})\n",
        "print(result)"
      ],
      "metadata": {
        "id": "mUKJFC9aZz1T"
      },
      "execution_count": null,
      "outputs": []
    },
    {
      "cell_type": "markdown",
      "source": [
        "文字列リストをアルファベット順にソートする関数\n",
        "\n"
      ],
      "metadata": {
        "id": "Cp8t--t7apf4"
      }
    },
    {
      "cell_type": "code",
      "source": [
        "def sort_strings(words):\n",
        "  return sorted(words)\n",
        "\n",
        "list=sort_strings([\"banana\", \"apple\", \"cherry\"])\n",
        "print(list)"
      ],
      "metadata": {
        "id": "yKcl6Zgca2Wk"
      },
      "execution_count": null,
      "outputs": []
    },
    {
      "cell_type": "markdown",
      "source": [
        "辞書の特定のキーの値を取得する関数"
      ],
      "metadata": {
        "id": "rAuW6XZqb0bD"
      }
    },
    {
      "cell_type": "code",
      "source": [
        "def get_dict_value(data, key):\n",
        "    return data.get(key)\n",
        "\n",
        "list=get_dict_value({\"name\": \"Alice\", \"age\": 25}, \"age\")\n",
        "print(list)"
      ],
      "metadata": {
        "id": "CB-GXHD-bz6u"
      },
      "execution_count": null,
      "outputs": []
    },
    {
      "cell_type": "markdown",
      "source": [
        "リストから特定の値をすべて削除する関数\n",
        "\n"
      ],
      "metadata": {
        "id": "OWebLzvEd0bz"
      }
    },
    {
      "cell_type": "code",
      "source": [
        "def remove_all_occurrences(items, value):\n",
        "  return [i for i in items if i!=value]\n",
        "\n",
        "result=remove_all_occurrences([1, 2, 3, 2, 4, 2, 5], 2)\n",
        "print(result)\n"
      ],
      "metadata": {
        "id": "4AIxP-FZd0N5"
      },
      "execution_count": null,
      "outputs": []
    },
    {
      "cell_type": "markdown",
      "source": [
        "辞書の値の最大値を返す関数"
      ],
      "metadata": {
        "id": "deFTzuTRetB_"
      }
    },
    {
      "cell_type": "code",
      "source": [
        "def  max_dict_value(data):\n",
        "  return max(data.values())\n",
        "list=max_dict_value({\"a\": 10, \"b\": 20, \"c\": 30})\n",
        "print(list)\n",
        "\n"
      ],
      "metadata": {
        "id": "ddkkwkHoeyfD"
      },
      "execution_count": null,
      "outputs": []
    },
    {
      "cell_type": "markdown",
      "source": [
        "リストの要素を2倍にする関数"
      ],
      "metadata": {
        "id": "qclTtD6Bf1rB"
      }
    },
    {
      "cell_type": "code",
      "source": [
        "def double_elements(numbers):\n",
        "  return [i*2 for i in numbers]\n",
        "  list=double_elements([1, 2, 3])\n",
        "  print(list)"
      ],
      "metadata": {
        "id": "W6SCMFbIhPJY"
      },
      "execution_count": null,
      "outputs": []
    },
    {
      "cell_type": "markdown",
      "source": [
        "辞書のキーと値を逆にする関数"
      ],
      "metadata": {
        "id": "p8uOq7I9hq8D"
      }
    },
    {
      "cell_type": "code",
      "source": [
        "def reverse_dict(data):\n",
        "  return {v:k for k,v in data.items()}\n",
        "\n",
        "list=reverse_dict({\"a\": 1, \"b\": 2, \"c\": 3})\n",
        "print(list)"
      ],
      "metadata": {
        "id": "gXQA0JGmiYsn"
      },
      "execution_count": null,
      "outputs": []
    },
    {
      "cell_type": "markdown",
      "source": [
        "文字列リストから特定の文字を含む単語を抽出する関数"
      ],
      "metadata": {
        "id": "l-cDpTcXj2zF"
      }
    },
    {
      "cell_type": "code",
      "source": [
        "def  filter_by_char(words, char):\n",
        "  return [i for i in words if char in i]\n",
        "list=filter_by_char([\"apple\", \"banana\", \"cherry\"], \"a\")\n",
        "print(list)"
      ],
      "metadata": {
        "id": "0ATyjm69kX5g"
      },
      "execution_count": null,
      "outputs": []
    },
    {
      "cell_type": "markdown",
      "source": [
        "リストの要素の平均値を計算する関数"
      ],
      "metadata": {
        "id": "aEL6Wq6nk-hn"
      }
    },
    {
      "cell_type": "code",
      "source": [
        "def average_list(numbers):\n",
        "\n",
        "  total=sum(numbers)\n",
        "  length=len(numbers)\n",
        "  average=total/length\n",
        "\n",
        "  return average\n",
        "\n",
        "\n",
        "list=average_list([1, 2, 3, 4, 5])\n",
        "print(list)"
      ],
      "metadata": {
        "id": "Z6w1i2q_lCsT"
      },
      "execution_count": null,
      "outputs": []
    },
    {
      "cell_type": "markdown",
      "source": [
        "辞書のキーをリストにして返す関数"
      ],
      "metadata": {
        "id": "fFJx1TbxmpX_"
      }
    },
    {
      "cell_type": "code",
      "source": [
        "def dict_keys_to_list(data):\n",
        "   return list(data.keys())\n",
        "\n",
        "result=dict_keys_to_list({\"name\": \"Alice\", \"age\": 25})\n",
        "print(result)"
      ],
      "metadata": {
        "id": "ocMBSTOSmwZ2"
      },
      "execution_count": null,
      "outputs": []
    }
  ]
}